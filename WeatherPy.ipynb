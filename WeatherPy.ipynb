{
 "cells": [
  {
   "cell_type": "markdown",
   "metadata": {},
   "source": [
    "# WeatherPy\n",
    "\n",
    "---\n",
    "\n",
    "## Starter Code to Generate Random Geographic Coordinates and a List of Cities"
   ]
  },
  {
   "cell_type": "code",
   "execution_count": 4,
   "metadata": {
    "scrolled": true
   },
   "outputs": [],
   "source": [
    "# Dependencies and Setup\n",
    "import matplotlib.pyplot as plt\n",
    "import pandas as pd\n",
    "import numpy as np\n",
    "import requests\n",
    "import time\n",
    "from scipy.stats import linregress\n",
    "\n",
    "# Impor the OpenWeatherMap API key\n",
    "from api_keys import weather_api_key\n",
    "\n",
    "# Import citipy to determine the cities based on latitude and longitude\n",
    "from citipy import citipy"
   ]
  },
  {
   "cell_type": "markdown",
   "metadata": {},
   "source": [
    "### Generate the Cities List by Using the `citipy` Library"
   ]
  },
  {
   "cell_type": "code",
   "execution_count": 5,
   "metadata": {},
   "outputs": [
    {
     "name": "stdout",
     "output_type": "stream",
     "text": [
      "Number of cities in the list: 626\n"
     ]
    }
   ],
   "source": [
    "# Empty list for holding the latitude and longitude combinations\n",
    "lat_lngs = []\n",
    "\n",
    "# Empty list for holding the cities names\n",
    "cities = []\n",
    "\n",
    "# Range of latitudes and longitudes\n",
    "lat_range = (-90, 90)\n",
    "lng_range = (-180, 180)\n",
    "\n",
    "# Create a set of random lat and lng combinations\n",
    "lats = np.random.uniform(lat_range[0], lat_range[1], size=1500)\n",
    "lngs = np.random.uniform(lng_range[0], lng_range[1], size=1500)\n",
    "lat_lngs = zip(lats, lngs)\n",
    "\n",
    "# Identify nearest city for each lat, lng combination\n",
    "for lat_lng in lat_lngs:\n",
    "    city = citipy.nearest_city(lat_lng[0], lat_lng[1]).city_name\n",
    "    \n",
    "    # If the city is unique, then add it to a our cities list\n",
    "    if city not in cities:\n",
    "        cities.append(city)\n",
    "\n",
    "# Print the city count to confirm sufficient count\n",
    "print(f\"Number of cities in the list: {len(cities)}\")"
   ]
  },
  {
   "cell_type": "markdown",
   "metadata": {},
   "source": [
    "---"
   ]
  },
  {
   "cell_type": "markdown",
   "metadata": {},
   "source": [
    "## Requirement 1: Create Plots to Showcase the Relationship Between Weather Variables and Latitude\n",
    "\n",
    "### Use the OpenWeatherMap API to retrieve weather data from the cities list generated in the started code"
   ]
  },
  {
   "cell_type": "code",
   "execution_count": 6,
   "metadata": {},
   "outputs": [],
   "source": [
    "# city_url = f\"{url}appid={api_key}&q={city}&units={units}\"\n"
   ]
  },
  {
   "cell_type": "code",
   "execution_count": 7,
   "metadata": {},
   "outputs": [
    {
     "name": "stdout",
     "output_type": "stream",
     "text": [
      "Beginning Data Retrieval     \n",
      "-----------------------------\n",
      "Processing Record 1 of Set 1 | dikson\n",
      "Processing Record 2 of Set 1 | hami\n",
      "Processing Record 3 of Set 1 | kavieng\n",
      "Processing Record 4 of Set 1 | hermanus\n",
      "Processing Record 5 of Set 1 | provideniya\n",
      "Processing Record 6 of Set 1 | avarua\n",
      "Processing Record 7 of Set 1 | blackwater\n",
      "Processing Record 8 of Set 1 | itoman\n",
      "Processing Record 9 of Set 1 | qaanaaq\n",
      "Processing Record 10 of Set 1 | hof\n",
      "Processing Record 11 of Set 1 | sao filipe\n",
      "Processing Record 12 of Set 1 | albany\n",
      "Processing Record 13 of Set 1 | buala\n",
      "Processing Record 14 of Set 1 | lebu\n",
      "Processing Record 15 of Set 1 | iaciara\n",
      "Processing Record 16 of Set 1 | saskylakh\n",
      "Processing Record 17 of Set 1 | tsihombe\n",
      "City not found. Skipping...\n",
      "Processing Record 18 of Set 1 | mogadishu\n",
      "Processing Record 19 of Set 1 | hasaki\n",
      "Processing Record 20 of Set 1 | samusu\n",
      "City not found. Skipping...\n",
      "Processing Record 21 of Set 1 | kapaa\n",
      "Processing Record 22 of Set 1 | atuona\n",
      "Processing Record 23 of Set 1 | pevek\n",
      "Processing Record 24 of Set 1 | mataura\n",
      "Processing Record 25 of Set 1 | tottori\n",
      "Processing Record 26 of Set 1 | muroto\n",
      "Processing Record 27 of Set 1 | verkhoyansk\n",
      "Processing Record 28 of Set 1 | busselton\n",
      "Processing Record 29 of Set 1 | mys shmidta\n",
      "City not found. Skipping...\n",
      "Processing Record 30 of Set 1 | caruray\n",
      "Processing Record 31 of Set 1 | bababe\n",
      "City not found. Skipping...\n",
      "Processing Record 32 of Set 1 | taolanaro\n",
      "City not found. Skipping...\n",
      "Processing Record 33 of Set 1 | bowen\n",
      "Processing Record 34 of Set 1 | hobart\n",
      "Processing Record 35 of Set 1 | alofi\n",
      "Processing Record 36 of Set 1 | pachmarhi\n",
      "Processing Record 37 of Set 1 | asau\n",
      "Processing Record 38 of Set 1 | half moon bay\n",
      "Processing Record 39 of Set 1 | novokruchininskiy\n",
      "Processing Record 40 of Set 1 | yeniseysk\n",
      "Processing Record 41 of Set 1 | nizhneyansk\n",
      "City not found. Skipping...\n",
      "Processing Record 42 of Set 1 | gorontalo\n",
      "Processing Record 43 of Set 1 | ushuaia\n",
      "Processing Record 44 of Set 1 | broken hill\n",
      "Processing Record 45 of Set 1 | bambous virieux\n",
      "Processing Record 46 of Set 1 | georgetown\n",
      "Processing Record 47 of Set 1 | we\n",
      "City not found. Skipping...\n",
      "Processing Record 48 of Set 1 | tanout\n",
      "Processing Record 49 of Set 1 | rikitea\n",
      "Processing Record 50 of Set 1 | kerrville\n",
      "Processing Record 0 of Set 2 | leningradskiy\n",
      "Processing Record 1 of Set 2 | muhos\n",
      "Processing Record 2 of Set 2 | belaya gora\n",
      "Processing Record 3 of Set 2 | chokurdakh\n",
      "Processing Record 4 of Set 2 | impfondo\n",
      "Processing Record 5 of Set 2 | bredasdorp\n",
      "Processing Record 6 of Set 2 | tasiilaq\n",
      "Processing Record 7 of Set 2 | beringovskiy\n",
      "Processing Record 8 of Set 2 | nanortalik\n",
      "Processing Record 9 of Set 2 | saint-philippe\n",
      "Processing Record 10 of Set 2 | tazovskiy\n",
      "Processing Record 11 of Set 2 | punta arenas\n",
      "Processing Record 12 of Set 2 | constitucion\n",
      "Processing Record 13 of Set 2 | castro\n",
      "Processing Record 14 of Set 2 | nelson bay\n",
      "Processing Record 15 of Set 2 | sambava\n",
      "Processing Record 16 of Set 2 | san patricio\n",
      "Processing Record 17 of Set 2 | marcona\n",
      "City not found. Skipping...\n",
      "Processing Record 18 of Set 2 | winnemucca\n",
      "Processing Record 19 of Set 2 | hilo\n",
      "Processing Record 20 of Set 2 | pailon\n",
      "Processing Record 21 of Set 2 | bilibino\n",
      "Processing Record 22 of Set 2 | ostersund\n",
      "Processing Record 23 of Set 2 | karamay\n",
      "City not found. Skipping...\n",
      "Processing Record 24 of Set 2 | nikolskoye\n",
      "Processing Record 25 of Set 2 | puerto ayora\n",
      "Processing Record 26 of Set 2 | nouakchott\n",
      "Processing Record 27 of Set 2 | yaan\n",
      "Processing Record 28 of Set 2 | katsuura\n",
      "Processing Record 29 of Set 2 | smithers\n",
      "Processing Record 30 of Set 2 | coro\n",
      "Processing Record 31 of Set 2 | faanui\n",
      "Processing Record 32 of Set 2 | port lincoln\n",
      "Processing Record 33 of Set 2 | okhotsk\n",
      "Processing Record 34 of Set 2 | belushya guba\n",
      "City not found. Skipping...\n",
      "Processing Record 35 of Set 2 | torbay\n",
      "Processing Record 36 of Set 2 | iqaluit\n",
      "Processing Record 37 of Set 2 | hofn\n",
      "Processing Record 38 of Set 2 | pavlodar\n",
      "Processing Record 39 of Set 2 | hukuntsi\n",
      "Processing Record 40 of Set 2 | barrow\n",
      "Processing Record 41 of Set 2 | chernyshevskiy\n",
      "Processing Record 42 of Set 2 | greeneville\n",
      "Processing Record 43 of Set 2 | port-de-bouc\n",
      "Processing Record 44 of Set 2 | warqla\n",
      "City not found. Skipping...\n",
      "Processing Record 45 of Set 2 | karema\n",
      "Processing Record 46 of Set 2 | cape town\n",
      "Processing Record 47 of Set 2 | cabinda\n",
      "Processing Record 48 of Set 2 | ambilobe\n",
      "Processing Record 49 of Set 2 | taoudenni\n",
      "Processing Record 0 of Set 3 | whyalla\n",
      "Processing Record 1 of Set 3 | cabo san lucas\n",
      "Processing Record 2 of Set 3 | rawson\n",
      "Processing Record 3 of Set 3 | baturaja\n",
      "Processing Record 4 of Set 3 | vila franca do campo\n",
      "Processing Record 5 of Set 3 | darhan\n",
      "Processing Record 6 of Set 3 | anadyr\n",
      "Processing Record 7 of Set 3 | tema\n",
      "Processing Record 8 of Set 3 | bharatpur\n",
      "Processing Record 9 of Set 3 | tuktoyaktuk\n",
      "Processing Record 10 of Set 3 | east london\n",
      "Processing Record 11 of Set 3 | iquitos\n",
      "Processing Record 12 of Set 3 | brae\n",
      "Processing Record 13 of Set 3 | akdepe\n",
      "Processing Record 14 of Set 3 | bonavista\n",
      "Processing Record 15 of Set 3 | mangrol\n",
      "Processing Record 16 of Set 3 | houston\n",
      "Processing Record 17 of Set 3 | mwinilunga\n",
      "Processing Record 18 of Set 3 | perth\n",
      "Processing Record 19 of Set 3 | mangan\n",
      "Processing Record 20 of Set 3 | rodrigues alves\n",
      "Processing Record 21 of Set 3 | huilong\n",
      "Processing Record 22 of Set 3 | kedrovyy\n",
      "Processing Record 23 of Set 3 | grand river south east\n",
      "City not found. Skipping...\n",
      "Processing Record 24 of Set 3 | avera\n",
      "Processing Record 25 of Set 3 | barentsburg\n",
      "City not found. Skipping...\n",
      "Processing Record 26 of Set 3 | ishigaki\n",
      "Processing Record 27 of Set 3 | kodiak\n",
      "Processing Record 28 of Set 3 | port alfred\n",
      "Processing Record 29 of Set 3 | karratha\n",
      "Processing Record 30 of Set 3 | englehart\n",
      "Processing Record 31 of Set 3 | mahebourg\n",
      "Processing Record 32 of Set 3 | winneba\n",
      "Processing Record 33 of Set 3 | mocambique\n",
      "City not found. Skipping...\n",
      "Processing Record 34 of Set 3 | hithadhoo\n",
      "Processing Record 35 of Set 3 | codrington\n",
      "Processing Record 36 of Set 3 | cherskiy\n",
      "Processing Record 37 of Set 3 | yumen\n",
      "Processing Record 38 of Set 3 | fukue\n",
      "Processing Record 39 of Set 3 | yichun\n",
      "Processing Record 40 of Set 3 | poum\n",
      "Processing Record 41 of Set 3 | airai\n",
      "Processing Record 42 of Set 3 | norman wells\n",
      "Processing Record 43 of Set 3 | orsha\n",
      "Processing Record 44 of Set 3 | kalamazoo\n",
      "Processing Record 45 of Set 3 | ngama\n",
      "Processing Record 46 of Set 3 | rogers\n",
      "Processing Record 47 of Set 3 | sorland\n",
      "Processing Record 48 of Set 3 | yulara\n",
      "Processing Record 49 of Set 3 | banff\n",
      "Processing Record 0 of Set 4 | saint george\n",
      "Processing Record 1 of Set 4 | vanavara\n",
      "Processing Record 2 of Set 4 | illoqqortoormiut\n",
      "City not found. Skipping...\n",
      "Processing Record 3 of Set 4 | trincomalee\n",
      "Processing Record 4 of Set 4 | goundi\n",
      "Processing Record 5 of Set 4 | lagoa\n",
      "Processing Record 6 of Set 4 | ostrovnoy\n",
      "Processing Record 7 of Set 4 | batagay-alyta\n",
      "Processing Record 8 of Set 4 | attawapiskat\n",
      "City not found. Skipping...\n",
      "Processing Record 9 of Set 4 | kaitangata\n",
      "Processing Record 10 of Set 4 | butaritari\n",
      "Processing Record 11 of Set 4 | guerrero negro\n",
      "Processing Record 12 of Set 4 | acambaro\n",
      "Processing Record 13 of Set 4 | san andres\n",
      "Processing Record 14 of Set 4 | kamenskoye\n",
      "City not found. Skipping...\n",
      "Processing Record 15 of Set 4 | raga\n",
      "Processing Record 16 of Set 4 | ewo\n",
      "Processing Record 17 of Set 4 | ponta do sol\n",
      "Processing Record 18 of Set 4 | galle\n",
      "Processing Record 19 of Set 4 | umzimvubu\n",
      "City not found. Skipping...\n",
      "Processing Record 20 of Set 4 | adrar\n",
      "Processing Record 21 of Set 4 | ilheus\n",
      "Processing Record 22 of Set 4 | kloulklubed\n",
      "Processing Record 23 of Set 4 | port-gentil\n",
      "Processing Record 24 of Set 4 | camabatela\n",
      "Processing Record 25 of Set 4 | belmonte\n",
      "Processing Record 26 of Set 4 | port hardy\n",
      "Processing Record 27 of Set 4 | carora\n",
      "Processing Record 28 of Set 4 | vaini\n",
      "Processing Record 29 of Set 4 | klaksvik\n",
      "Processing Record 30 of Set 4 | grand-santi\n",
      "Processing Record 31 of Set 4 | namatanai\n",
      "Processing Record 32 of Set 4 | new norfolk\n",
      "Processing Record 33 of Set 4 | bluff\n",
      "Processing Record 34 of Set 4 | hundorp\n",
      "Processing Record 35 of Set 4 | souillac\n",
      "Processing Record 36 of Set 4 | victoria\n",
      "Processing Record 37 of Set 4 | asfi\n",
      "Processing Record 38 of Set 4 | dingle\n",
      "Processing Record 39 of Set 4 | alyangula\n",
      "Processing Record 40 of Set 4 | port elizabeth\n",
      "Processing Record 41 of Set 4 | ust-charyshskaya pristan\n",
      "Processing Record 42 of Set 4 | merauke\n",
      "Processing Record 43 of Set 4 | yenagoa\n",
      "Processing Record 44 of Set 4 | batemans bay\n",
      "Processing Record 45 of Set 4 | haines junction\n",
      "Processing Record 46 of Set 4 | pau brasil\n",
      "Processing Record 47 of Set 4 | inongo\n",
      "Processing Record 48 of Set 4 | valverde del camino\n",
      "Processing Record 49 of Set 4 | nouadhibou\n",
      "Processing Record 0 of Set 5 | kisangani\n",
      "Processing Record 1 of Set 5 | umm jarr\n",
      "City not found. Skipping...\n",
      "Processing Record 2 of Set 5 | upernavik\n",
      "Processing Record 3 of Set 5 | mackay\n",
      "Processing Record 4 of Set 5 | alexandria\n",
      "Processing Record 5 of Set 5 | lavrentiya\n",
      "Processing Record 6 of Set 5 | shimoda\n",
      "Processing Record 7 of Set 5 | sydney\n",
      "Processing Record 8 of Set 5 | bisira\n",
      "Processing Record 9 of Set 5 | tumannyy\n",
      "City not found. Skipping...\n",
      "Processing Record 10 of Set 5 | te anau\n",
      "Processing Record 11 of Set 5 | mount isa\n",
      "Processing Record 12 of Set 5 | freeport\n",
      "Processing Record 13 of Set 5 | ndende\n",
      "Processing Record 14 of Set 5 | arantangi\n",
      "Processing Record 15 of Set 5 | carnarvon\n",
      "Processing Record 16 of Set 5 | mayo\n",
      "Processing Record 17 of Set 5 | saldanha\n",
      "Processing Record 18 of Set 5 | arraial do cabo\n",
      "Processing Record 19 of Set 5 | talnakh\n",
      "Processing Record 20 of Set 5 | kahului\n",
      "Processing Record 21 of Set 5 | usinsk\n",
      "Processing Record 22 of Set 5 | thompson\n",
      "Processing Record 23 of Set 5 | jinchang\n",
      "Processing Record 24 of Set 5 | kijang\n",
      "Processing Record 25 of Set 5 | meulaboh\n",
      "Processing Record 26 of Set 5 | koutsouras\n",
      "Processing Record 27 of Set 5 | kizema\n",
      "Processing Record 28 of Set 5 | nong chik\n",
      "Processing Record 29 of Set 5 | geraldton\n",
      "Processing Record 30 of Set 5 | tiksi\n",
      "Processing Record 31 of Set 5 | lerwick\n",
      "Processing Record 32 of Set 5 | gagarin\n",
      "Processing Record 33 of Set 5 | gumushane\n",
      "City not found. Skipping...\n",
      "Processing Record 34 of Set 5 | khatanga\n",
      "Processing Record 35 of Set 5 | khuzhir\n",
      "Processing Record 36 of Set 5 | fortuna\n",
      "Processing Record 37 of Set 5 | requena\n",
      "Processing Record 38 of Set 5 | yar-sale\n",
      "Processing Record 39 of Set 5 | yellowknife\n",
      "Processing Record 40 of Set 5 | borger\n",
      "Processing Record 41 of Set 5 | vestmanna\n",
      "Processing Record 42 of Set 5 | valparaiso\n",
      "Processing Record 43 of Set 5 | kitgum\n",
      "Processing Record 44 of Set 5 | road town\n",
      "Processing Record 45 of Set 5 | thohoyandou\n",
      "Processing Record 46 of Set 5 | axim\n",
      "Processing Record 47 of Set 5 | iskateley\n",
      "Processing Record 48 of Set 5 | kalmunai\n",
      "Processing Record 49 of Set 5 | salalah\n",
      "Processing Record 0 of Set 6 | barbar\n",
      "City not found. Skipping...\n",
      "Processing Record 1 of Set 6 | roald\n",
      "Processing Record 2 of Set 6 | gravdal\n",
      "Processing Record 3 of Set 6 | coos bay\n",
      "Processing Record 4 of Set 6 | eureka\n",
      "Processing Record 5 of Set 6 | bonthe\n",
      "Processing Record 6 of Set 6 | sassandra\n",
      "Processing Record 7 of Set 6 | bethel\n",
      "Processing Record 8 of Set 6 | isangel\n",
      "Processing Record 9 of Set 6 | fort nelson\n",
      "Processing Record 10 of Set 6 | ambanja\n",
      "Processing Record 11 of Set 6 | macia\n",
      "Processing Record 12 of Set 6 | khasan\n",
      "Processing Record 13 of Set 6 | alice springs\n",
      "Processing Record 14 of Set 6 | petkovci\n",
      "Processing Record 15 of Set 6 | college\n",
      "Processing Record 16 of Set 6 | kimbe\n",
      "Processing Record 17 of Set 6 | jamestown\n",
      "Processing Record 18 of Set 6 | north branch\n",
      "Processing Record 19 of Set 6 | polyarnyy\n",
      "Processing Record 20 of Set 6 | kenai\n",
      "Processing Record 21 of Set 6 | saint-augustin\n",
      "Processing Record 22 of Set 6 | camacha\n",
      "Processing Record 23 of Set 6 | hayvoron\n",
      "Processing Record 24 of Set 6 | bengkulu\n",
      "Processing Record 25 of Set 6 | cidreira\n",
      "Processing Record 26 of Set 6 | belyy yar\n",
      "Processing Record 27 of Set 6 | zuwarah\n",
      "Processing Record 28 of Set 6 | mar del plata\n",
      "Processing Record 29 of Set 6 | muswellbrook\n",
      "Processing Record 30 of Set 6 | inhambane\n",
      "Processing Record 31 of Set 6 | hualmay\n",
      "Processing Record 32 of Set 6 | warrington\n",
      "Processing Record 33 of Set 6 | buciumeni\n",
      "Processing Record 34 of Set 6 | kirensk\n",
      "Processing Record 35 of Set 6 | bangangte\n",
      "Processing Record 36 of Set 6 | xingcheng\n",
      "Processing Record 37 of Set 6 | aden\n",
      "Processing Record 38 of Set 6 | panubigan\n",
      "Processing Record 39 of Set 6 | vao\n",
      "Processing Record 40 of Set 6 | zhuanghe\n",
      "Processing Record 41 of Set 6 | kupang\n",
      "Processing Record 42 of Set 6 | luderitz\n",
      "Processing Record 43 of Set 6 | lorengau\n",
      "Processing Record 44 of Set 6 | hengshui\n",
      "Processing Record 45 of Set 6 | clyde river\n",
      "Processing Record 46 of Set 6 | devyatka\n",
      "City not found. Skipping...\n",
      "Processing Record 47 of Set 6 | qrendi\n",
      "Processing Record 48 of Set 6 | karaul\n",
      "City not found. Skipping...\n",
      "Processing Record 49 of Set 6 | kemijarvi\n",
      "Processing Record 0 of Set 7 | rawannawi\n",
      "City not found. Skipping...\n",
      "Processing Record 1 of Set 7 | surt\n",
      "Processing Record 2 of Set 7 | santiago\n",
      "Processing Record 3 of Set 7 | cap malheureux\n",
      "Processing Record 4 of Set 7 | mattru\n",
      "Processing Record 5 of Set 7 | huangyan\n",
      "Processing Record 6 of Set 7 | ahipara\n",
      "Processing Record 7 of Set 7 | pasighat\n",
      "Processing Record 8 of Set 7 | norilsk\n",
      "Processing Record 9 of Set 7 | ilulissat\n",
      "Processing Record 10 of Set 7 | mabaruma\n",
      "Processing Record 11 of Set 7 | amderma\n",
      "City not found. Skipping...\n",
      "Processing Record 12 of Set 7 | broome\n",
      "Processing Record 13 of Set 7 | paris\n",
      "Processing Record 14 of Set 7 | cairns\n",
      "Processing Record 15 of Set 7 | youkounkoun\n",
      "Processing Record 16 of Set 7 | zhucheng\n",
      "Processing Record 17 of Set 7 | bay roberts\n",
      "Processing Record 18 of Set 7 | aravete\n",
      "Processing Record 19 of Set 7 | zambezi\n",
      "Processing Record 20 of Set 7 | mayor pablo lagerenza\n",
      "Processing Record 21 of Set 7 | powell river\n",
      "Processing Record 22 of Set 7 | hovd\n",
      "Processing Record 23 of Set 7 | kristiansund\n",
      "Processing Record 24 of Set 7 | aklavik\n",
      "Processing Record 25 of Set 7 | rivadavia\n",
      "Processing Record 26 of Set 7 | amga\n",
      "Processing Record 27 of Set 7 | cacoal\n",
      "Processing Record 28 of Set 7 | sinnamary\n",
      "Processing Record 29 of Set 7 | mangochi\n",
      "Processing Record 30 of Set 7 | harper\n",
      "Processing Record 31 of Set 7 | nam dinh\n",
      "Processing Record 32 of Set 7 | kungurtug\n",
      "Processing Record 33 of Set 7 | carutapera\n",
      "Processing Record 34 of Set 7 | strakonice\n",
      "Processing Record 35 of Set 7 | shirokiy\n",
      "Processing Record 36 of Set 7 | dinard\n",
      "Processing Record 37 of Set 7 | vanderhoof\n",
      "Processing Record 38 of Set 7 | pueblo\n",
      "Processing Record 39 of Set 7 | dawei\n",
      "Processing Record 40 of Set 7 | ajdabiya\n",
      "Processing Record 41 of Set 7 | leh\n",
      "Processing Record 42 of Set 7 | khilok\n",
      "Processing Record 43 of Set 7 | araouane\n",
      "Processing Record 44 of Set 7 | nargana\n",
      "Processing Record 45 of Set 7 | puerto escondido\n",
      "Processing Record 46 of Set 7 | touros\n",
      "Processing Record 47 of Set 7 | grand-lahou\n",
      "Processing Record 48 of Set 7 | ribeira grande\n",
      "Processing Record 49 of Set 7 | palm beach\n",
      "Processing Record 0 of Set 8 | ouadda\n",
      "Processing Record 1 of Set 8 | zhangye\n",
      "Processing Record 2 of Set 8 | sangar\n",
      "Processing Record 3 of Set 8 | mgandu\n",
      "Processing Record 4 of Set 8 | san ramon\n",
      "Processing Record 5 of Set 8 | omboue\n",
      "Processing Record 6 of Set 8 | alotau\n",
      "City not found. Skipping...\n",
      "Processing Record 7 of Set 8 | melita\n",
      "Processing Record 8 of Set 8 | oxbow\n",
      "Processing Record 9 of Set 8 | nabire\n",
      "Processing Record 10 of Set 8 | tezu\n",
      "Processing Record 11 of Set 8 | catio\n",
      "Processing Record 12 of Set 8 | lata\n",
      "Processing Record 13 of Set 8 | linkoping\n",
      "Processing Record 14 of Set 8 | goedereede\n",
      "Processing Record 15 of Set 8 | san carlos de bariloche\n",
      "Processing Record 16 of Set 8 | sitka\n",
      "Processing Record 17 of Set 8 | penalva\n",
      "Processing Record 18 of Set 8 | maromitsa\n",
      "Processing Record 19 of Set 8 | hervey bay\n",
      "Processing Record 20 of Set 8 | viedma\n",
      "Processing Record 21 of Set 8 | riacho de santana\n",
      "Processing Record 22 of Set 8 | spirovo\n",
      "Processing Record 23 of Set 8 | zyryanka\n",
      "Processing Record 24 of Set 8 | acapulco\n",
      "Processing Record 25 of Set 8 | gao\n",
      "Processing Record 26 of Set 8 | hailar\n",
      "Processing Record 27 of Set 8 | aasiaat\n",
      "Processing Record 28 of Set 8 | ossora\n",
      "Processing Record 29 of Set 8 | solnechnyy\n",
      "Processing Record 30 of Set 8 | grindavik\n",
      "Processing Record 31 of Set 8 | tessalit\n",
      "Processing Record 32 of Set 8 | partizansk\n",
      "Processing Record 33 of Set 8 | havoysund\n",
      "Processing Record 34 of Set 8 | khormuj\n",
      "City not found. Skipping...\n",
      "Processing Record 35 of Set 8 | zabid\n",
      "Processing Record 36 of Set 8 | inuvik\n",
      "Processing Record 37 of Set 8 | santa ana\n",
      "Processing Record 38 of Set 8 | mitu\n",
      "Processing Record 39 of Set 8 | suoyarvi\n",
      "Processing Record 40 of Set 8 | rocha\n",
      "Processing Record 41 of Set 8 | makhachkala\n",
      "Processing Record 42 of Set 8 | flinders\n",
      "Processing Record 43 of Set 8 | hopkinsville\n",
      "Processing Record 44 of Set 8 | gallup\n",
      "Processing Record 45 of Set 8 | nome\n",
      "Processing Record 46 of Set 8 | camacupa\n",
      "Processing Record 47 of Set 8 | neyshabur\n",
      "Processing Record 48 of Set 8 | comodoro rivadavia\n",
      "Processing Record 49 of Set 8 | duz\n",
      "City not found. Skipping...\n",
      "Processing Record 0 of Set 9 | ambatofinandrahana\n",
      "Processing Record 1 of Set 9 | marawi\n",
      "Processing Record 2 of Set 9 | kristiinankaupunki\n",
      "Processing Record 3 of Set 9 | ilhabela\n",
      "Processing Record 4 of Set 9 | beloha\n",
      "Processing Record 5 of Set 9 | mukhen\n",
      "Processing Record 6 of Set 9 | simao\n",
      "Processing Record 7 of Set 9 | fairbanks\n",
      "Processing Record 8 of Set 9 | vaitupu\n",
      "City not found. Skipping...\n",
      "Processing Record 9 of Set 9 | soanierana ivongo\n",
      "Processing Record 10 of Set 9 | tamarin\n",
      "Processing Record 11 of Set 9 | muros\n",
      "Processing Record 12 of Set 9 | eydhafushi\n",
      "Processing Record 13 of Set 9 | quatre cocos\n",
      "Processing Record 14 of Set 9 | kutum\n",
      "Processing Record 15 of Set 9 | luwuk\n",
      "Processing Record 16 of Set 9 | sokolka\n",
      "Processing Record 17 of Set 9 | antofagasta\n",
      "Processing Record 18 of Set 9 | teya\n",
      "Processing Record 19 of Set 9 | dzhusaly\n",
      "City not found. Skipping...\n",
      "Processing Record 20 of Set 9 | panguna\n",
      "Processing Record 21 of Set 9 | nhulunbuy\n",
      "Processing Record 22 of Set 9 | tuatapere\n",
      "Processing Record 23 of Set 9 | norfolk\n",
      "Processing Record 24 of Set 9 | palabuhanratu\n",
      "City not found. Skipping...\n",
      "Processing Record 25 of Set 9 | zamora\n",
      "Processing Record 26 of Set 9 | kyaikkami\n",
      "Processing Record 27 of Set 9 | neuruppin\n",
      "Processing Record 28 of Set 9 | lipari\n",
      "Processing Record 29 of Set 9 | tabuk\n",
      "Processing Record 30 of Set 9 | laje\n",
      "Processing Record 31 of Set 9 | seoul\n",
      "Processing Record 32 of Set 9 | ejido\n",
      "Processing Record 33 of Set 9 | komsomolskiy\n",
      "Processing Record 34 of Set 9 | abha\n",
      "Processing Record 35 of Set 9 | dandong\n",
      "Processing Record 36 of Set 9 | naze\n",
      "Processing Record 37 of Set 9 | lolua\n",
      "City not found. Skipping...\n",
      "Processing Record 38 of Set 9 | chokwe\n",
      "Processing Record 39 of Set 9 | chengde\n",
      "Processing Record 40 of Set 9 | divnomorskoye\n",
      "Processing Record 41 of Set 9 | kampot\n",
      "Processing Record 42 of Set 9 | manicore\n",
      "Processing Record 43 of Set 9 | bakel\n",
      "Processing Record 44 of Set 9 | sumter\n",
      "Processing Record 45 of Set 9 | piacabucu\n",
      "Processing Record 46 of Set 9 | bilma\n",
      "Processing Record 47 of Set 9 | cururupu\n",
      "Processing Record 48 of Set 9 | high level\n",
      "Processing Record 49 of Set 9 | mount gambier\n",
      "Processing Record 0 of Set 10 | narasannapeta\n",
      "Processing Record 1 of Set 10 | vagay\n",
      "Processing Record 2 of Set 10 | sola\n",
      "Processing Record 3 of Set 10 | plettenberg bay\n",
      "Processing Record 4 of Set 10 | sideropolis\n",
      "Processing Record 5 of Set 10 | kayes\n",
      "Processing Record 6 of Set 10 | zhigansk\n",
      "Processing Record 7 of Set 10 | esperance\n",
      "Processing Record 8 of Set 10 | tiarei\n",
      "Processing Record 9 of Set 10 | salihorsk\n",
      "Processing Record 10 of Set 10 | keti bandar\n",
      "Processing Record 11 of Set 10 | solsvik\n",
      "City not found. Skipping...\n",
      "Processing Record 12 of Set 10 | barwadih\n",
      "Processing Record 13 of Set 10 | sabha\n",
      "Processing Record 14 of Set 10 | longyearbyen\n",
      "Processing Record 15 of Set 10 | boguchany\n",
      "Processing Record 16 of Set 10 | charters towers\n",
      "Processing Record 17 of Set 10 | kongoussi\n",
      "Processing Record 18 of Set 10 | alihe\n",
      "Processing Record 19 of Set 10 | misratah\n",
      "Processing Record 20 of Set 10 | imbituba\n",
      "Processing Record 21 of Set 10 | nam tha\n",
      "City not found. Skipping...\n",
      "Processing Record 22 of Set 10 | elizabeth city\n",
      "Processing Record 23 of Set 10 | mahon\n",
      "Processing Record 24 of Set 10 | jalu\n",
      "Processing Record 25 of Set 10 | vilhena\n",
      "Processing Record 26 of Set 10 | khani\n",
      "Processing Record 27 of Set 10 | kontagora\n",
      "Processing Record 28 of Set 10 | sur\n",
      "Processing Record 29 of Set 10 | sao joao da barra\n",
      "Processing Record 30 of Set 10 | saint albans\n",
      "Processing Record 31 of Set 10 | madison\n",
      "Processing Record 32 of Set 10 | san jose\n",
      "Processing Record 33 of Set 10 | chuy\n",
      "Processing Record 34 of Set 10 | kavaratti\n",
      "Processing Record 35 of Set 10 | gongzhuling\n",
      "Processing Record 36 of Set 10 | trairi\n",
      "Processing Record 37 of Set 10 | veseloyarsk\n",
      "Processing Record 38 of Set 10 | barcelos\n",
      "Processing Record 39 of Set 10 | dinsor\n",
      "City not found. Skipping...\n",
      "Processing Record 40 of Set 10 | buchanan\n",
      "Processing Record 41 of Set 10 | irara\n",
      "Processing Record 42 of Set 10 | yarada\n",
      "Processing Record 43 of Set 10 | erdenet\n",
      "Processing Record 44 of Set 10 | aranda de duero\n",
      "Processing Record 45 of Set 10 | polson\n",
      "Processing Record 46 of Set 10 | chupei\n",
      "City not found. Skipping...\n",
      "Processing Record 47 of Set 10 | caravelas\n",
      "Processing Record 48 of Set 10 | soyo\n",
      "Processing Record 49 of Set 10 | svetlaya\n",
      "Processing Record 0 of Set 11 | jonesboro\n",
      "Processing Record 1 of Set 11 | los llanos de aridane\n",
      "Processing Record 2 of Set 11 | severo-kurilsk\n",
      "Processing Record 3 of Set 11 | novska\n",
      "Processing Record 4 of Set 11 | saintes\n",
      "Processing Record 5 of Set 11 | caluquembe\n",
      "Processing Record 6 of Set 11 | sentyabrskiy\n",
      "City not found. Skipping...\n",
      "Processing Record 7 of Set 11 | kuytun\n",
      "Processing Record 8 of Set 11 | namibe\n",
      "Processing Record 9 of Set 11 | santa cruz\n",
      "Processing Record 10 of Set 11 | burica\n",
      "City not found. Skipping...\n",
      "Processing Record 11 of Set 11 | pinega\n",
      "Processing Record 12 of Set 11 | marzuq\n",
      "Processing Record 13 of Set 11 | tura\n",
      "Processing Record 14 of Set 11 | krasnoarmeysk\n",
      "Processing Record 15 of Set 11 | esso\n",
      "Processing Record 16 of Set 11 | sa kaeo\n",
      "Processing Record 17 of Set 11 | pisco\n",
      "Processing Record 18 of Set 11 | marechal floriano\n",
      "Processing Record 19 of Set 11 | santa rosa\n",
      "Processing Record 20 of Set 11 | seagoville\n",
      "Processing Record 21 of Set 11 | colesberg\n",
      "Processing Record 22 of Set 11 | zhuhai\n",
      "Processing Record 23 of Set 11 | bani\n",
      "Processing Record 24 of Set 11 | lewiston\n",
      "Processing Record 25 of Set 11 | nadvoitsy\n",
      "Processing Record 26 of Set 11 | kamenka\n",
      "Processing Record 27 of Set 11 | preobrazheniye\n",
      "Processing Record 28 of Set 11 | humberto de campos\n",
      "Processing Record 29 of Set 11 | kabare\n",
      "Processing Record 30 of Set 11 | rylsk\n",
      "Processing Record 31 of Set 11 | amguri\n",
      "Processing Record 32 of Set 11 | kieta\n",
      "Processing Record 33 of Set 11 | cockburn town\n",
      "Processing Record 34 of Set 11 | saint-louis\n",
      "Processing Record 35 of Set 11 | palauig\n",
      "Processing Record 36 of Set 11 | cheuskiny\n",
      "City not found. Skipping...\n",
      "Processing Record 37 of Set 11 | omsukchan\n",
      "Processing Record 38 of Set 11 | talcahuano\n",
      "Processing Record 39 of Set 11 | mragowo\n",
      "Processing Record 40 of Set 11 | ciudad bolivar\n",
      "Processing Record 41 of Set 11 | nioro\n",
      "Processing Record 42 of Set 11 | lhokseumawe\n",
      "Processing Record 43 of Set 11 | lakes entrance\n",
      "Processing Record 44 of Set 11 | shubarkuduk\n",
      "Processing Record 45 of Set 11 | ati\n",
      "Processing Record 46 of Set 11 | homer\n",
      "Processing Record 47 of Set 11 | waingapu\n",
      "Processing Record 48 of Set 11 | padang\n",
      "Processing Record 49 of Set 11 | kuldur\n",
      "Processing Record 0 of Set 12 | srednekolymsk\n",
      "Processing Record 1 of Set 12 | chisinau\n",
      "Processing Record 2 of Set 12 | chase\n",
      "Processing Record 3 of Set 12 | vostok\n",
      "Processing Record 4 of Set 12 | maridi\n",
      "Processing Record 5 of Set 12 | humen\n",
      "Processing Record 6 of Set 12 | francisco sa\n",
      "Processing Record 7 of Set 12 | east millcreek\n",
      "Processing Record 8 of Set 12 | mandalgovi\n",
      "Processing Record 9 of Set 12 | coroico\n",
      "Processing Record 10 of Set 12 | ancud\n",
      "Processing Record 11 of Set 12 | lahij\n",
      "Processing Record 12 of Set 12 | tocopilla\n",
      "Processing Record 13 of Set 12 | vila velha\n",
      "Processing Record 14 of Set 12 | saleaula\n",
      "City not found. Skipping...\n",
      "Processing Record 15 of Set 12 | uyuni\n",
      "Processing Record 16 of Set 12 | port macquarie\n",
      "Processing Record 17 of Set 12 | tiznit\n",
      "Processing Record 18 of Set 12 | lasa\n",
      "Processing Record 19 of Set 12 | vila\n",
      "Processing Record 20 of Set 12 | taitung\n",
      "Processing Record 21 of Set 12 | port moresby\n",
      "Processing Record 22 of Set 12 | solton\n",
      "Processing Record 23 of Set 12 | yomitan\n",
      "City not found. Skipping...\n",
      "Processing Record 24 of Set 12 | mehran\n",
      "Processing Record 25 of Set 12 | istmina\n",
      "Processing Record 26 of Set 12 | kambove\n",
      "Processing Record 27 of Set 12 | armidale\n",
      "Processing Record 28 of Set 12 | arlit\n",
      "Processing Record 29 of Set 12 | la ronge\n",
      "Processing Record 30 of Set 12 | krasnoselkup\n",
      "Processing Record 31 of Set 12 | wum\n",
      "Processing Record 32 of Set 12 | manitouwadge\n",
      "Processing Record 33 of Set 12 | esil\n",
      "Processing Record 34 of Set 12 | maniitsoq\n",
      "Processing Record 35 of Set 12 | bela\n",
      "Processing Record 36 of Set 12 | baijiantan\n",
      "Processing Record 37 of Set 12 | walvis bay\n",
      "Processing Record 38 of Set 12 | yarmouth\n",
      "Processing Record 39 of Set 12 | hammerfest\n",
      "Processing Record 40 of Set 12 | palmer\n",
      "Processing Record 41 of Set 12 | abnub\n",
      "Processing Record 42 of Set 12 | oakdale\n",
      "Processing Record 43 of Set 12 | marsabit\n",
      "Processing Record 44 of Set 12 | totness\n",
      "Processing Record 45 of Set 12 | ulladulla\n",
      "Processing Record 46 of Set 12 | vallenar\n",
      "Processing Record 47 of Set 12 | dosso\n",
      "Processing Record 48 of Set 12 | semnan\n",
      "Processing Record 49 of Set 12 | kuche\n",
      "City not found. Skipping...\n",
      "Processing Record 0 of Set 13 | menongue\n",
      "Processing Record 1 of Set 13 | cagayan de tawi-tawi\n",
      "City not found. Skipping...\n",
      "Processing Record 2 of Set 13 | kidal\n",
      "Processing Record 3 of Set 13 | pitsunda\n",
      "Processing Record 4 of Set 13 | heihe\n",
      "Processing Record 5 of Set 13 | pemberton\n",
      "Processing Record 6 of Set 13 | voh\n",
      "Processing Record 7 of Set 13 | aykhal\n",
      "Processing Record 8 of Set 13 | san cristobal\n",
      "Processing Record 9 of Set 13 | shingu\n",
      "Processing Record 10 of Set 13 | nyuksenitsa\n",
      "Processing Record 11 of Set 13 | adre\n",
      "Processing Record 12 of Set 13 | mirpur khas\n",
      "Processing Record 13 of Set 13 | chudniv\n",
      "Processing Record 14 of Set 13 | kumluca\n",
      "Processing Record 15 of Set 13 | lomovka\n",
      "Processing Record 16 of Set 13 | yuci\n",
      "Processing Record 17 of Set 13 | san quintin\n",
      "Processing Record 18 of Set 13 | toliary\n",
      "City not found. Skipping...\n",
      "Processing Record 19 of Set 13 | alugan\n",
      "Processing Record 20 of Set 13 | leshukonskoye\n",
      "Processing Record 21 of Set 13 | le port\n",
      "Processing Record 22 of Set 13 | vigrestad\n",
      "Processing Record 23 of Set 13 | starkville\n",
      "Processing Record 24 of Set 13 | kaseda\n",
      "Processing Record 25 of Set 13 | warburton\n",
      "-----------------------------\n",
      "Data Retrieval Complete      \n",
      "-----------------------------\n"
     ]
    }
   ],
   "source": [
    "# Set the API base URL\n",
    "url = \"http://api.openweathermap.org/data/2.5/weather?\" #appid={weather_api_key}\"\n",
    "api_key= weather_api_key\n",
    "units= 'imperial'\n",
    "\n",
    "# Define an empty list to fetch the weather data for each city\n",
    "city_data = []\n",
    "\n",
    "# Print to logger\n",
    "print(\"Beginning Data Retrieval     \")\n",
    "print(\"-----------------------------\")\n",
    "\n",
    "# Create counters\n",
    "record_count = 1\n",
    "set_count = 1\n",
    "\n",
    "# Loop through all the cities in our list to fetch weather data\n",
    "for i, city in enumerate(cities):\n",
    "        \n",
    "    # Group cities in sets of 50 for logging purposes\n",
    "    if (i % 50 == 0 and i >= 50):\n",
    "        set_count += 1\n",
    "        record_count = 0\n",
    "        time.sleep(10)\n",
    "\n",
    "    # Create endpoint URL with each city\n",
    "    city_url = f\"{url}appid={api_key}&q={city}&units={units}\"\n",
    " \n",
    "    # response= requests.get(city_url).json()\n",
    "    # print(response)\n",
    "    \n",
    "    # Log the url, record, and set numbers\n",
    "    print(\"Processing Record %s of Set %s | %s\" % (record_count, set_count, city))\n",
    "\n",
    "    # Add 1 to the record count\n",
    "    record_count += 1\n",
    "\n",
    "    # Run an API request for each of the cities\n",
    "    try:\n",
    "        # Parse the JSON and retrieve data\n",
    "        city_weather = requests.get(city_url).json()\n",
    "\n",
    "        # Parse out latitude, longitude, max temp, humidity, cloudiness, wind speed, country, and date\n",
    "        city_lat= city_weather['coord']['lat']\n",
    "        city_lng = city_weather['coord']['lon']\n",
    "        city_max_temp = city_weather['main']['temp_max']\n",
    "        city_humidity = city_weather['main']['humidity']\n",
    "        city_clouds = city_weather['clouds']['all']\n",
    "        city_wind = city_weather['wind']['speed']\n",
    "        city_country = city_weather['sys']['country']\n",
    "        city_date = city_weather['dt']\n",
    "\n",
    "        # Append the City information into city_data list\n",
    "        city_data.append({\"City\": city, \n",
    "                          \"Lat\": city_lat, \n",
    "                          \"Lng\": city_lng, \n",
    "                          \"Max Temp\": city_max_temp,\n",
    "                          \"Humidity\": city_humidity,\n",
    "                          \"Cloudiness\": city_clouds,\n",
    "                          \"Wind Speed\": city_wind,\n",
    "                          \"Country\": city_country,\n",
    "                          \"Date\": city_date})\n",
    "\n",
    "    # If an error is experienced, skip the city\n",
    "    except:\n",
    "        print(\"City not found. Skipping...\")\n",
    "        pass\n",
    "              \n",
    "# Indicate that Data Loading is complete \n",
    "print(\"-----------------------------\")\n",
    "print(\"Data Retrieval Complete      \")\n",
    "print(\"-----------------------------\")"
   ]
  },
  {
   "cell_type": "code",
   "execution_count": 8,
   "metadata": {},
   "outputs": [
    {
     "data": {
      "text/plain": [
       "City          581\n",
       "Lat           581\n",
       "Lng           581\n",
       "Max Temp      581\n",
       "Humidity      581\n",
       "Cloudiness    581\n",
       "Wind Speed    581\n",
       "Country       581\n",
       "Date          581\n",
       "dtype: int64"
      ]
     },
     "execution_count": 8,
     "metadata": {},
     "output_type": "execute_result"
    }
   ],
   "source": [
    "# Convert the cities weather data into a Pandas DataFrame\n",
    "city_data_df = pd.DataFrame(city_data)\n",
    "\n",
    "# Show Record Count\n",
    "city_data_df.count()"
   ]
  },
  {
   "cell_type": "code",
   "execution_count": 9,
   "metadata": {},
   "outputs": [
    {
     "data": {
      "text/html": [
       "<div>\n",
       "<style scoped>\n",
       "    .dataframe tbody tr th:only-of-type {\n",
       "        vertical-align: middle;\n",
       "    }\n",
       "\n",
       "    .dataframe tbody tr th {\n",
       "        vertical-align: top;\n",
       "    }\n",
       "\n",
       "    .dataframe thead th {\n",
       "        text-align: right;\n",
       "    }\n",
       "</style>\n",
       "<table border=\"1\" class=\"dataframe\">\n",
       "  <thead>\n",
       "    <tr style=\"text-align: right;\">\n",
       "      <th></th>\n",
       "      <th>City</th>\n",
       "      <th>Lat</th>\n",
       "      <th>Lng</th>\n",
       "      <th>Max Temp</th>\n",
       "      <th>Humidity</th>\n",
       "      <th>Cloudiness</th>\n",
       "      <th>Wind Speed</th>\n",
       "      <th>Country</th>\n",
       "      <th>Date</th>\n",
       "    </tr>\n",
       "  </thead>\n",
       "  <tbody>\n",
       "    <tr>\n",
       "      <th>0</th>\n",
       "      <td>dikson</td>\n",
       "      <td>73.5069</td>\n",
       "      <td>80.5464</td>\n",
       "      <td>-0.83</td>\n",
       "      <td>98</td>\n",
       "      <td>100</td>\n",
       "      <td>10.40</td>\n",
       "      <td>RU</td>\n",
       "      <td>1670623689</td>\n",
       "    </tr>\n",
       "    <tr>\n",
       "      <th>1</th>\n",
       "      <td>hami</td>\n",
       "      <td>42.8000</td>\n",
       "      <td>93.4500</td>\n",
       "      <td>23.49</td>\n",
       "      <td>44</td>\n",
       "      <td>95</td>\n",
       "      <td>6.87</td>\n",
       "      <td>CN</td>\n",
       "      <td>1670623690</td>\n",
       "    </tr>\n",
       "    <tr>\n",
       "      <th>2</th>\n",
       "      <td>kavieng</td>\n",
       "      <td>-2.5744</td>\n",
       "      <td>150.7967</td>\n",
       "      <td>82.89</td>\n",
       "      <td>75</td>\n",
       "      <td>100</td>\n",
       "      <td>8.95</td>\n",
       "      <td>PG</td>\n",
       "      <td>1670623690</td>\n",
       "    </tr>\n",
       "    <tr>\n",
       "      <th>3</th>\n",
       "      <td>hermanus</td>\n",
       "      <td>-34.4187</td>\n",
       "      <td>19.2345</td>\n",
       "      <td>67.80</td>\n",
       "      <td>85</td>\n",
       "      <td>0</td>\n",
       "      <td>3.29</td>\n",
       "      <td>ZA</td>\n",
       "      <td>1670623690</td>\n",
       "    </tr>\n",
       "    <tr>\n",
       "      <th>4</th>\n",
       "      <td>provideniya</td>\n",
       "      <td>64.3833</td>\n",
       "      <td>-173.3000</td>\n",
       "      <td>21.87</td>\n",
       "      <td>85</td>\n",
       "      <td>92</td>\n",
       "      <td>8.21</td>\n",
       "      <td>RU</td>\n",
       "      <td>1670623691</td>\n",
       "    </tr>\n",
       "  </tbody>\n",
       "</table>\n",
       "</div>"
      ],
      "text/plain": [
       "          City      Lat       Lng  Max Temp  Humidity  Cloudiness  Wind Speed  \\\n",
       "0       dikson  73.5069   80.5464     -0.83        98         100       10.40   \n",
       "1         hami  42.8000   93.4500     23.49        44          95        6.87   \n",
       "2      kavieng  -2.5744  150.7967     82.89        75         100        8.95   \n",
       "3     hermanus -34.4187   19.2345     67.80        85           0        3.29   \n",
       "4  provideniya  64.3833 -173.3000     21.87        85          92        8.21   \n",
       "\n",
       "  Country        Date  \n",
       "0      RU  1670623689  \n",
       "1      CN  1670623690  \n",
       "2      PG  1670623690  \n",
       "3      ZA  1670623690  \n",
       "4      RU  1670623691  "
      ]
     },
     "execution_count": 9,
     "metadata": {},
     "output_type": "execute_result"
    }
   ],
   "source": [
    "# Display sample data\n",
    "city_data_df.head()"
   ]
  },
  {
   "cell_type": "code",
   "execution_count": 10,
   "metadata": {},
   "outputs": [],
   "source": [
    "# Export the City_Data into a csv\n",
    "city_data_df.to_csv(\"../output_data/cities.csv\", index_label=\"City_ID\")"
   ]
  },
  {
   "cell_type": "code",
   "execution_count": 11,
   "metadata": {},
   "outputs": [
    {
     "data": {
      "text/html": [
       "<div>\n",
       "<style scoped>\n",
       "    .dataframe tbody tr th:only-of-type {\n",
       "        vertical-align: middle;\n",
       "    }\n",
       "\n",
       "    .dataframe tbody tr th {\n",
       "        vertical-align: top;\n",
       "    }\n",
       "\n",
       "    .dataframe thead th {\n",
       "        text-align: right;\n",
       "    }\n",
       "</style>\n",
       "<table border=\"1\" class=\"dataframe\">\n",
       "  <thead>\n",
       "    <tr style=\"text-align: right;\">\n",
       "      <th></th>\n",
       "      <th>City</th>\n",
       "      <th>Lat</th>\n",
       "      <th>Lng</th>\n",
       "      <th>Max Temp</th>\n",
       "      <th>Humidity</th>\n",
       "      <th>Cloudiness</th>\n",
       "      <th>Wind Speed</th>\n",
       "      <th>Country</th>\n",
       "      <th>Date</th>\n",
       "    </tr>\n",
       "    <tr>\n",
       "      <th>City_ID</th>\n",
       "      <th></th>\n",
       "      <th></th>\n",
       "      <th></th>\n",
       "      <th></th>\n",
       "      <th></th>\n",
       "      <th></th>\n",
       "      <th></th>\n",
       "      <th></th>\n",
       "      <th></th>\n",
       "    </tr>\n",
       "  </thead>\n",
       "  <tbody>\n",
       "    <tr>\n",
       "      <th>0</th>\n",
       "      <td>dikson</td>\n",
       "      <td>73.5069</td>\n",
       "      <td>80.5464</td>\n",
       "      <td>-0.83</td>\n",
       "      <td>98</td>\n",
       "      <td>100</td>\n",
       "      <td>10.40</td>\n",
       "      <td>RU</td>\n",
       "      <td>1670623689</td>\n",
       "    </tr>\n",
       "    <tr>\n",
       "      <th>1</th>\n",
       "      <td>hami</td>\n",
       "      <td>42.8000</td>\n",
       "      <td>93.4500</td>\n",
       "      <td>23.49</td>\n",
       "      <td>44</td>\n",
       "      <td>95</td>\n",
       "      <td>6.87</td>\n",
       "      <td>CN</td>\n",
       "      <td>1670623690</td>\n",
       "    </tr>\n",
       "    <tr>\n",
       "      <th>2</th>\n",
       "      <td>kavieng</td>\n",
       "      <td>-2.5744</td>\n",
       "      <td>150.7967</td>\n",
       "      <td>82.89</td>\n",
       "      <td>75</td>\n",
       "      <td>100</td>\n",
       "      <td>8.95</td>\n",
       "      <td>PG</td>\n",
       "      <td>1670623690</td>\n",
       "    </tr>\n",
       "    <tr>\n",
       "      <th>3</th>\n",
       "      <td>hermanus</td>\n",
       "      <td>-34.4187</td>\n",
       "      <td>19.2345</td>\n",
       "      <td>67.80</td>\n",
       "      <td>85</td>\n",
       "      <td>0</td>\n",
       "      <td>3.29</td>\n",
       "      <td>ZA</td>\n",
       "      <td>1670623690</td>\n",
       "    </tr>\n",
       "    <tr>\n",
       "      <th>4</th>\n",
       "      <td>provideniya</td>\n",
       "      <td>64.3833</td>\n",
       "      <td>-173.3000</td>\n",
       "      <td>21.87</td>\n",
       "      <td>85</td>\n",
       "      <td>92</td>\n",
       "      <td>8.21</td>\n",
       "      <td>RU</td>\n",
       "      <td>1670623691</td>\n",
       "    </tr>\n",
       "  </tbody>\n",
       "</table>\n",
       "</div>"
      ],
      "text/plain": [
       "                City      Lat       Lng  Max Temp  Humidity  Cloudiness  \\\n",
       "City_ID                                                                   \n",
       "0             dikson  73.5069   80.5464     -0.83        98         100   \n",
       "1               hami  42.8000   93.4500     23.49        44          95   \n",
       "2            kavieng  -2.5744  150.7967     82.89        75         100   \n",
       "3           hermanus -34.4187   19.2345     67.80        85           0   \n",
       "4        provideniya  64.3833 -173.3000     21.87        85          92   \n",
       "\n",
       "         Wind Speed Country        Date  \n",
       "City_ID                                  \n",
       "0             10.40      RU  1670623689  \n",
       "1              6.87      CN  1670623690  \n",
       "2              8.95      PG  1670623690  \n",
       "3              3.29      ZA  1670623690  \n",
       "4              8.21      RU  1670623691  "
      ]
     },
     "execution_count": 11,
     "metadata": {},
     "output_type": "execute_result"
    }
   ],
   "source": [
    "# Read saved data\n",
    "city_data_df = pd.read_csv(\"../output_data/cities.csv\", index_col=\"City_ID\")\n",
    "\n",
    "# Display sample data\n",
    "city_data_df.head()"
   ]
  },
  {
   "cell_type": "markdown",
   "metadata": {},
   "source": [
    "### Create the Scatter Plots Requested\n",
    "\n",
    "#### Latitude Vs. Temperature"
   ]
  },
  {
   "cell_type": "code",
   "execution_count": 12,
   "metadata": {
    "tags": []
   },
   "outputs": [
    {
     "data": {
      "image/png": "[encoded data removed]",
      "text/plain": [
       "<Figure size 432x288 with 1 Axes>"
      ]
     },
     "metadata": {
      "needs_background": "light"
     },
     "output_type": "display_data"
    }
   ],
   "source": [
    "# Build scatter plot for latitude vs. temperature\n",
    "Lat= city_data_df['Lat']\n",
    "MaxTemp= city_data_df['Max Temp']\n",
    "Humidity= city_data_df['Humidity']\n",
    "Cloudiness= city_data_df['Cloudiness']\n",
    "Windspeed= city_data_df['Wind Speed']\n",
    "\n",
    "plt.scatter(Lat, MaxTemp, edgecolor='black' )\n",
    "\n",
    "# Incorporate the other graph properties\n",
    "plt.title('City Latitude vs Temperature')\n",
    "plt.xlabel('Latitude')\n",
    "plt.ylabel('Max Temp (F)')\n",
    "\n",
    "# Save the figure\n",
    "plt.savefig(\"../output_data/Fig1.png\")\n",
    "\n",
    "# Show plot\n",
    "plt.show()"
   ]
  },
  {
   "cell_type": "markdown",
   "metadata": {},
   "source": [
    "#### Latitude Vs. Humidity"
   ]
  },
  {
   "cell_type": "code",
   "execution_count": 13,
   "metadata": {},
   "outputs": [
    {
     "data": {
      "image/png": "[encoded data removed]",
      "text/plain": [
       "<Figure size 432x288 with 1 Axes>"
      ]
     },
     "metadata": {
      "needs_background": "light"
     },
     "output_type": "display_data"
    }
   ],
   "source": [
    "# Build the scatter plots for latitude vs. humidity\n",
    "plt.scatter(Lat, Humidity, edgecolor='black' )\n",
    "\n",
    "# Incorporate the other graph properties\n",
    "plt.title('City Latitude vs Humidity')\n",
    "plt.xlabel('Latitude')\n",
    "plt.ylabel('Humidity (%)')\n",
    "\n",
    "# Save the figure\n",
    "plt.savefig(\"../output_data/Fig2.png\")\n",
    "\n",
    "# Show plot\n",
    "plt.show()"
   ]
  },
  {
   "cell_type": "markdown",
   "metadata": {},
   "source": [
    "#### Latitude Vs. Cloudiness"
   ]
  },
  {
   "cell_type": "code",
   "execution_count": 14,
   "metadata": {},
   "outputs": [
    {
     "data": {
      "image/png": "[encoded data removed]",
      "text/plain": [
       "<Figure size 432x288 with 1 Axes>"
      ]
     },
     "metadata": {
      "needs_background": "light"
     },
     "output_type": "display_data"
    }
   ],
   "source": [
    "# Build the scatter plots for latitude vs. cloudiness\n",
    "plt.scatter(Lat, Cloudiness, edgecolor='black' )\n",
    "\n",
    "# Incorporate the other graph properties\n",
    "plt.title('City Latitude vs Cloudiness')\n",
    "plt.xlabel('Latitude')\n",
    "plt.ylabel('Cloudiness (%)')\n",
    "\n",
    "# Save the figure\n",
    "plt.savefig(\"../output_data/Fig3.png\")\n",
    "\n",
    "# Show plot\n",
    "plt.show()"
   ]
  },
  {
   "cell_type": "markdown",
   "metadata": {},
   "source": [
    "#### Latitude vs. Wind Speed Plot"
   ]
  },
  {
   "cell_type": "code",
   "execution_count": 15,
   "metadata": {},
   "outputs": [
    {
     "data": {
      "image/png": "[encoded data removed]",
      "text/plain": [
       "<Figure size 432x288 with 1 Axes>"
      ]
     },
     "metadata": {
      "needs_background": "light"
     },
     "output_type": "display_data"
    }
   ],
   "source": [
    "# Build the scatter plots for latitude vs. wind speed\n",
    "plt.scatter(Lat, Windspeed, edgecolor='black' )\n",
    "\n",
    "# Incorporate the other graph properties\n",
    "plt.title('City Latitude vs Wind Speed')\n",
    "plt.xlabel('Latitude')\n",
    "plt.ylabel('Wind Speed (m/s)')\n",
    "\n",
    "# Save the figure\n",
    "plt.savefig(\"../output_data/Fig4.png\")\n",
    "\n",
    "# Show plot\n",
    "plt.show()"
   ]
  },
  {
   "cell_type": "markdown",
   "metadata": {},
   "source": [
    "---\n",
    "\n",
    "## Requirement 2: Compute Linear Regression for Each Relationship\n"
   ]
  },
  {
   "cell_type": "code",
   "execution_count": 16,
   "metadata": {},
   "outputs": [],
   "source": [
    "# Define a function to create Linear Regression plots\n",
    "def linear_reg_plot(x_values,y_values):\n",
    "    (slope, intercept, rvalue, pvalue, stderr) = linregress(x_values, y_values)\n",
    "    regress_values = x_values * slope + intercept\n",
    "    line_eq = \"y = \" + str(round(slope,2)) + \"x + \" + str(round(intercept,2))\n",
    "    plt.scatter(x_values,y_values)\n",
    "    plt.plot(x_values,regress_values,\"r-\")\n",
    "    plt.annotate(line_eq,(x_values.median(),y_values.median()),fontsize=15,color=\"red\")\n",
    "    plt.xlabel(\"Latitude\")\n",
    "    print(f\"The r-squared is: {rvalue}\")\n",
    "    plt.show()"
   ]
  },
  {
   "cell_type": "code",
   "execution_count": 17,
   "metadata": {},
   "outputs": [
    {
     "data": {
      "text/html": [
       "<div>\n",
       "<style scoped>\n",
       "    .dataframe tbody tr th:only-of-type {\n",
       "        vertical-align: middle;\n",
       "    }\n",
       "\n",
       "    .dataframe tbody tr th {\n",
       "        vertical-align: top;\n",
       "    }\n",
       "\n",
       "    .dataframe thead th {\n",
       "        text-align: right;\n",
       "    }\n",
       "</style>\n",
       "<table border=\"1\" class=\"dataframe\">\n",
       "  <thead>\n",
       "    <tr style=\"text-align: right;\">\n",
       "      <th></th>\n",
       "      <th>City</th>\n",
       "      <th>Lat</th>\n",
       "      <th>Lng</th>\n",
       "      <th>Max Temp</th>\n",
       "      <th>Humidity</th>\n",
       "      <th>Cloudiness</th>\n",
       "      <th>Wind Speed</th>\n",
       "      <th>Country</th>\n",
       "      <th>Date</th>\n",
       "    </tr>\n",
       "    <tr>\n",
       "      <th>City_ID</th>\n",
       "      <th></th>\n",
       "      <th></th>\n",
       "      <th></th>\n",
       "      <th></th>\n",
       "      <th></th>\n",
       "      <th></th>\n",
       "      <th></th>\n",
       "      <th></th>\n",
       "      <th></th>\n",
       "    </tr>\n",
       "  </thead>\n",
       "  <tbody>\n",
       "    <tr>\n",
       "      <th>0</th>\n",
       "      <td>dikson</td>\n",
       "      <td>73.5069</td>\n",
       "      <td>80.5464</td>\n",
       "      <td>-0.83</td>\n",
       "      <td>98</td>\n",
       "      <td>100</td>\n",
       "      <td>10.40</td>\n",
       "      <td>RU</td>\n",
       "      <td>1670623689</td>\n",
       "    </tr>\n",
       "    <tr>\n",
       "      <th>1</th>\n",
       "      <td>hami</td>\n",
       "      <td>42.8000</td>\n",
       "      <td>93.4500</td>\n",
       "      <td>23.49</td>\n",
       "      <td>44</td>\n",
       "      <td>95</td>\n",
       "      <td>6.87</td>\n",
       "      <td>CN</td>\n",
       "      <td>1670623690</td>\n",
       "    </tr>\n",
       "    <tr>\n",
       "      <th>4</th>\n",
       "      <td>provideniya</td>\n",
       "      <td>64.3833</td>\n",
       "      <td>-173.3000</td>\n",
       "      <td>21.87</td>\n",
       "      <td>85</td>\n",
       "      <td>92</td>\n",
       "      <td>8.21</td>\n",
       "      <td>RU</td>\n",
       "      <td>1670623691</td>\n",
       "    </tr>\n",
       "    <tr>\n",
       "      <th>7</th>\n",
       "      <td>itoman</td>\n",
       "      <td>26.1247</td>\n",
       "      <td>127.6694</td>\n",
       "      <td>68.38</td>\n",
       "      <td>88</td>\n",
       "      <td>75</td>\n",
       "      <td>17.27</td>\n",
       "      <td>JP</td>\n",
       "      <td>1670623693</td>\n",
       "    </tr>\n",
       "    <tr>\n",
       "      <th>8</th>\n",
       "      <td>qaanaaq</td>\n",
       "      <td>77.4840</td>\n",
       "      <td>-69.3632</td>\n",
       "      <td>6.53</td>\n",
       "      <td>78</td>\n",
       "      <td>100</td>\n",
       "      <td>3.65</td>\n",
       "      <td>GL</td>\n",
       "      <td>1670623693</td>\n",
       "    </tr>\n",
       "  </tbody>\n",
       "</table>\n",
       "</div>"
      ],
      "text/plain": [
       "                City      Lat       Lng  Max Temp  Humidity  Cloudiness  \\\n",
       "City_ID                                                                   \n",
       "0             dikson  73.5069   80.5464     -0.83        98         100   \n",
       "1               hami  42.8000   93.4500     23.49        44          95   \n",
       "4        provideniya  64.3833 -173.3000     21.87        85          92   \n",
       "7             itoman  26.1247  127.6694     68.38        88          75   \n",
       "8            qaanaaq  77.4840  -69.3632      6.53        78         100   \n",
       "\n",
       "         Wind Speed Country        Date  \n",
       "City_ID                                  \n",
       "0             10.40      RU  1670623689  \n",
       "1              6.87      CN  1670623690  \n",
       "4              8.21      RU  1670623691  \n",
       "7             17.27      JP  1670623693  \n",
       "8              3.65      GL  1670623693  "
      ]
     },
     "execution_count": 17,
     "metadata": {},
     "output_type": "execute_result"
    }
   ],
   "source": [
    "# Create a DataFrame with the Northern Hemisphere data (Latitude >= 0)\n",
    "northern_hemi = city_data_df.loc[city_data_df[\"Lat\"]>0]\n",
    "\n",
    "# Display sample data\n",
    "northern_hemi.head()"
   ]
  },
  {
   "cell_type": "code",
   "execution_count": 18,
   "metadata": {},
   "outputs": [
    {
     "data": {
      "text/html": [
       "<div>\n",
       "<style scoped>\n",
       "    .dataframe tbody tr th:only-of-type {\n",
       "        vertical-align: middle;\n",
       "    }\n",
       "\n",
       "    .dataframe tbody tr th {\n",
       "        vertical-align: top;\n",
       "    }\n",
       "\n",
       "    .dataframe thead th {\n",
       "        text-align: right;\n",
       "    }\n",
       "</style>\n",
       "<table border=\"1\" class=\"dataframe\">\n",
       "  <thead>\n",
       "    <tr style=\"text-align: right;\">\n",
       "      <th></th>\n",
       "      <th>City</th>\n",
       "      <th>Lat</th>\n",
       "      <th>Lng</th>\n",
       "      <th>Max Temp</th>\n",
       "      <th>Humidity</th>\n",
       "      <th>Cloudiness</th>\n",
       "      <th>Wind Speed</th>\n",
       "      <th>Country</th>\n",
       "      <th>Date</th>\n",
       "    </tr>\n",
       "    <tr>\n",
       "      <th>City_ID</th>\n",
       "      <th></th>\n",
       "      <th></th>\n",
       "      <th></th>\n",
       "      <th></th>\n",
       "      <th></th>\n",
       "      <th></th>\n",
       "      <th></th>\n",
       "      <th></th>\n",
       "      <th></th>\n",
       "    </tr>\n",
       "  </thead>\n",
       "  <tbody>\n",
       "    <tr>\n",
       "      <th>2</th>\n",
       "      <td>kavieng</td>\n",
       "      <td>-2.5744</td>\n",
       "      <td>150.7967</td>\n",
       "      <td>82.89</td>\n",
       "      <td>75</td>\n",
       "      <td>100</td>\n",
       "      <td>8.95</td>\n",
       "      <td>PG</td>\n",
       "      <td>1670623690</td>\n",
       "    </tr>\n",
       "    <tr>\n",
       "      <th>3</th>\n",
       "      <td>hermanus</td>\n",
       "      <td>-34.4187</td>\n",
       "      <td>19.2345</td>\n",
       "      <td>67.80</td>\n",
       "      <td>85</td>\n",
       "      <td>0</td>\n",
       "      <td>3.29</td>\n",
       "      <td>ZA</td>\n",
       "      <td>1670623690</td>\n",
       "    </tr>\n",
       "    <tr>\n",
       "      <th>5</th>\n",
       "      <td>avarua</td>\n",
       "      <td>-21.2078</td>\n",
       "      <td>-159.7750</td>\n",
       "      <td>77.05</td>\n",
       "      <td>88</td>\n",
       "      <td>75</td>\n",
       "      <td>5.75</td>\n",
       "      <td>CK</td>\n",
       "      <td>1670623691</td>\n",
       "    </tr>\n",
       "    <tr>\n",
       "      <th>6</th>\n",
       "      <td>blackwater</td>\n",
       "      <td>-23.5833</td>\n",
       "      <td>148.8833</td>\n",
       "      <td>79.07</td>\n",
       "      <td>68</td>\n",
       "      <td>37</td>\n",
       "      <td>10.69</td>\n",
       "      <td>AU</td>\n",
       "      <td>1670623692</td>\n",
       "    </tr>\n",
       "    <tr>\n",
       "      <th>12</th>\n",
       "      <td>buala</td>\n",
       "      <td>-8.1450</td>\n",
       "      <td>159.5921</td>\n",
       "      <td>83.19</td>\n",
       "      <td>74</td>\n",
       "      <td>100</td>\n",
       "      <td>3.80</td>\n",
       "      <td>SB</td>\n",
       "      <td>1670623694</td>\n",
       "    </tr>\n",
       "  </tbody>\n",
       "</table>\n",
       "</div>"
      ],
      "text/plain": [
       "               City      Lat       Lng  Max Temp  Humidity  Cloudiness  \\\n",
       "City_ID                                                                  \n",
       "2           kavieng  -2.5744  150.7967     82.89        75         100   \n",
       "3          hermanus -34.4187   19.2345     67.80        85           0   \n",
       "5            avarua -21.2078 -159.7750     77.05        88          75   \n",
       "6        blackwater -23.5833  148.8833     79.07        68          37   \n",
       "12            buala  -8.1450  159.5921     83.19        74         100   \n",
       "\n",
       "         Wind Speed Country        Date  \n",
       "City_ID                                  \n",
       "2              8.95      PG  1670623690  \n",
       "3              3.29      ZA  1670623690  \n",
       "5              5.75      CK  1670623691  \n",
       "6             10.69      AU  1670623692  \n",
       "12             3.80      SB  1670623694  "
      ]
     },
     "execution_count": 18,
     "metadata": {},
     "output_type": "execute_result"
    }
   ],
   "source": [
    "# Create a DataFrame with the Southern Hemisphere data (Latitude < 0)\n",
    "southern_hemi= city_data_df.loc[city_data_df[\"Lat\"] <0]\n",
    "\n",
    "# Display sample data\n",
    "southern_hemi.head()"
   ]
  },
  {
   "cell_type": "markdown",
   "metadata": {},
   "source": [
    "###  Temperature vs. Latitude Linear Regression Plot"
   ]
  },
  {
   "cell_type": "code",
   "execution_count": 19,
   "metadata": {},
   "outputs": [
    {
     "name": "stdout",
     "output_type": "stream",
     "text": [
      "The r-squared is: -0.8627354024132318\n"
     ]
    },
    {
     "data": {
      "image/png": "[encoded data removed]",
      "text/plain": [
       "<Figure size 432x288 with 1 Axes>"
      ]
     },
     "metadata": {
      "needs_background": "light"
     },
     "output_type": "display_data"
    },
    {
     "name": "stdout",
     "output_type": "stream",
     "text": [
      "None\n"
     ]
    }
   ],
   "source": [
    "# Linear regression on Northern Hemisphere\n",
    "x_values= northern_hemi[\"Lat\"]\n",
    "y_values= northern_hemi[\"Max Temp\"]\n",
    "plt.ylabel(\"Max Temp (F)\")\n",
    "print(linear_reg_plot(x_values, y_values))"
   ]
  },
  {
   "cell_type": "code",
   "execution_count": 20,
   "metadata": {},
   "outputs": [
    {
     "name": "stdout",
     "output_type": "stream",
     "text": [
      "The r-squared is: 0.4395101825656025\n"
     ]
    },
    {
     "data": {
      "image/png": "[encoded data removed]",
      "text/plain": [
       "<Figure size 432x288 with 1 Axes>"
      ]
     },
     "metadata": {
      "needs_background": "light"
     },
     "output_type": "display_data"
    },
    {
     "name": "stdout",
     "output_type": "stream",
     "text": [
      "None\n"
     ]
    }
   ],
   "source": [
    "# Linear regression on Southern Hemisphere\n",
    "x_values= southern_hemi[\"Lat\"]\n",
    "y_values= southern_hemi[\"Max Temp\"]\n",
    "plt.ylabel(\"Max Temp (F)\")\n",
    "print(linear_reg_plot(x_values, y_values))"
   ]
  },
  {
   "cell_type": "markdown",
   "metadata": {},
   "source": [
    "**Discussion about the linear relationship:** \n",
    "\n",
    "For the northern hemisphere the closer to the north pole (i.e. higher the latitude) the max temp drops. \n",
    "Alternatively, for the south pole the closer to the south pole (i.e. lower in latitude) the max temp drops. \n",
    "Essentially, the closer to a latitude of zero, in southern or northern hemisphere, the higher the temp."
   ]
  },
  {
   "cell_type": "markdown",
   "metadata": {},
   "source": [
    "### Humidity vs. Latitude Linear Regression Plot"
   ]
  },
  {
   "cell_type": "code",
   "execution_count": 21,
   "metadata": {},
   "outputs": [
    {
     "name": "stdout",
     "output_type": "stream",
     "text": [
      "The r-squared is: 0.39275451965019453\n"
     ]
    },
    {
     "data": {
      "image/png": "[encoded data removed]",
      "text/plain": [
       "<Figure size 432x288 with 1 Axes>"
      ]
     },
     "metadata": {
      "needs_background": "light"
     },
     "output_type": "display_data"
    },
    {
     "name": "stdout",
     "output_type": "stream",
     "text": [
      "None\n"
     ]
    }
   ],
   "source": [
    "# Northern Hemisphere\n",
    "x_values= northern_hemi[\"Lat\"]\n",
    "y_values= northern_hemi[\"Humidity\"]\n",
    "plt.ylabel(\"Humidity (%)\")\n",
    "print(linear_reg_plot(x_values, y_values))"
   ]
  },
  {
   "cell_type": "code",
   "execution_count": 22,
   "metadata": {},
   "outputs": [
    {
     "name": "stdout",
     "output_type": "stream",
     "text": [
      "The r-squared is: 0.4307698088112063\n"
     ]
    },
    {
     "data": {
      "image/png": "[encoded data removed]",
      "text/plain": [
       "<Figure size 432x288 with 1 Axes>"
      ]
     },
     "metadata": {
      "needs_background": "light"
     },
     "output_type": "display_data"
    },
    {
     "name": "stdout",
     "output_type": "stream",
     "text": [
      "None\n"
     ]
    }
   ],
   "source": [
    "# Southern Hemisphere\n",
    "x_values= southern_hemi[\"Lat\"]\n",
    "y_values= southern_hemi[\"Humidity\"]\n",
    "plt.ylabel(\"Humidity (%)\")\n",
    "print(linear_reg_plot(x_values, y_values))"
   ]
  },
  {
   "cell_type": "markdown",
   "metadata": {},
   "source": [
    "**Discussion about the linear relationship:** \n",
    "\n",
    "Not sure if I did my calculations correct after looking at this graph, but my original assumption was that the closer to a latitude of zero in northern and southern hemispheres would yield a higher average humidty. According to this data the closer you get to the north pole the higher the humidity.\n",
    "To be sure, there are several points on the northern hemisphere between the latitudes of 10-50 that may be altering the r-value in the norhern hemisphere data. \n",
    "At any rate, the humidity seems to be primarily up north. Not what I was expecting."
   ]
  },
  {
   "cell_type": "markdown",
   "metadata": {},
   "source": [
    "### Cloudiness vs. Latitude Linear Regression Plot"
   ]
  },
  {
   "cell_type": "code",
   "execution_count": 23,
   "metadata": {},
   "outputs": [
    {
     "name": "stdout",
     "output_type": "stream",
     "text": [
      "The r-squared is: 0.3219886661866742\n"
     ]
    },
    {
     "data": {
      "image/png": "[encoded data removed]",
      "text/plain": [
       "<Figure size 432x288 with 1 Axes>"
      ]
     },
     "metadata": {
      "needs_background": "light"
     },
     "output_type": "display_data"
    },
    {
     "name": "stdout",
     "output_type": "stream",
     "text": [
      "None\n"
     ]
    }
   ],
   "source": [
    "# Northern Hemisphere\n",
    "x_values= northern_hemi[\"Lat\"]\n",
    "y_values= northern_hemi[\"Cloudiness\"]\n",
    "plt.ylabel(\"Cloudiness\")\n",
    "print(linear_reg_plot(x_values, y_values))"
   ]
  },
  {
   "cell_type": "code",
   "execution_count": 24,
   "metadata": {},
   "outputs": [
    {
     "name": "stdout",
     "output_type": "stream",
     "text": [
      "The r-squared is: 0.3359557720727532\n"
     ]
    },
    {
     "data": {
      "image/png": "[encoded data removed]",
      "text/plain": [
       "<Figure size 432x288 with 1 Axes>"
      ]
     },
     "metadata": {
      "needs_background": "light"
     },
     "output_type": "display_data"
    },
    {
     "name": "stdout",
     "output_type": "stream",
     "text": [
      "None\n"
     ]
    }
   ],
   "source": [
    "# Southern Hemisphere\n",
    "x_values= southern_hemi[\"Lat\"]\n",
    "y_values= southern_hemi[\"Cloudiness\"]\n",
    "plt.ylabel(\"Cloudiness\")\n",
    "print(linear_reg_plot(x_values, y_values))"
   ]
  },
  {
   "cell_type": "markdown",
   "metadata": {},
   "source": [
    "**Discussion about the linear relationship:** \n",
    "\n",
    "This data certainly seems a bit skewed what with how many outliers there seem to be in both scatterplots. There seems to be a high concentration of clouds in and around the equator, or latitude of zero, and the northern hemisphere seems to have a majority of cloud coverage closer to the north pole. \n",
    "What I find most interesting is the surprising lack of clouds between latitudes 20 to about 78. Clouds do not appear to like the in-between areas. "
   ]
  },
  {
   "cell_type": "markdown",
   "metadata": {},
   "source": [
    "### Wind Speed vs. Latitude Linear Regression Plot"
   ]
  },
  {
   "cell_type": "code",
   "execution_count": 25,
   "metadata": {},
   "outputs": [
    {
     "name": "stdout",
     "output_type": "stream",
     "text": [
      "The r-squared is: 0.06453699064535309\n"
     ]
    },
    {
     "data": {
      "image/png": "[encoded data removed]",
      "text/plain": [
       "<Figure size 432x288 with 1 Axes>"
      ]
     },
     "metadata": {
      "needs_background": "light"
     },
     "output_type": "display_data"
    },
    {
     "name": "stdout",
     "output_type": "stream",
     "text": [
      "None\n"
     ]
    }
   ],
   "source": [
    "# Northern Hemisphere\n",
    "x_values= northern_hemi[\"Lat\"]\n",
    "y_values= northern_hemi[\"Wind Speed\"]\n",
    "plt.ylabel(\"Wind Speed\")\n",
    "print(linear_reg_plot(x_values, y_values))"
   ]
  },
  {
   "cell_type": "code",
   "execution_count": 26,
   "metadata": {},
   "outputs": [
    {
     "name": "stdout",
     "output_type": "stream",
     "text": [
      "The r-squared is: -0.3162433495645316\n"
     ]
    },
    {
     "data": {
      "image/png": "[encoded data removed]",
      "text/plain": [
       "<Figure size 432x288 with 1 Axes>"
      ]
     },
     "metadata": {
      "needs_background": "light"
     },
     "output_type": "display_data"
    },
    {
     "name": "stdout",
     "output_type": "stream",
     "text": [
      "None\n"
     ]
    }
   ],
   "source": [
    "# Southern Hemisphere\n",
    "x_values= southern_hemi[\"Lat\"]\n",
    "y_values= southern_hemi[\"Wind Speed\"]\n",
    "plt.ylabel(\"Wind Speed\")\n",
    "print(linear_reg_plot(x_values, y_values))"
   ]
  },
  {
   "cell_type": "markdown",
   "metadata": {},
   "source": [
    "**Discussion about the linear relationship:** \n",
    "\n",
    "Generally speaking, wind speeds are more mild close to the equator. The norther hemisphere seems to be much less susceptible to high wind speeds, regardless of latitude. The southern hemisphere displays wind speeds that are more varied, especially as you start deviating from a latitude of zero. "
   ]
  },
  {
   "cell_type": "code",
   "execution_count": null,
   "metadata": {},
   "outputs": [],
   "source": []
  }
 ],
 "metadata": {
  "anaconda-cloud": {},
  "kernel_info": {
   "name": "python3"
  },
  "kernelspec": {
   "display_name": "Python 3.9.12 ('base')",
   "language": "python",
   "name": "python3"
  },
  "language_info": {
   "codemirror_mode": {
    "name": "ipython",
    "version": 3
   },
   "file_extension": ".py",
   "mimetype": "text/x-python",
   "name": "python",
   "nbconvert_exporter": "python",
   "pygments_lexer": "ipython3",
   "version": "3.9.12"
  },
  "latex_envs": {
   "LaTeX_envs_menu_present": true,
   "autoclose": false,
   "autocomplete": true,
   "bibliofile": "biblio.bib",
   "cite_by": "apalike",
   "current_citInitial": 1,
   "eqLabelWithNumbers": true,
   "eqNumInitial": 1,
   "hotkeys": {
    "equation": "Ctrl-E",
    "itemize": "Ctrl-I"
   },
   "labels_anchors": false,
   "latex_user_defs": false,
   "report_style_numbering": false,
   "user_envs_cfg": false
  },
  "nteract": {
   "version": "0.12.3"
  },
  "vscode": {
   "interpreter": {
    "hash": "45e2f827819a2e110a7b5e2fcdd9286ed2e52622192636f3d830ffd153c1a213"
   }
  }
 },
 "nbformat": 4,
 "nbformat_minor": 4
}
